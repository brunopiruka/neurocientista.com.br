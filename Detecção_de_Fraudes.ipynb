{
  "nbformat": 4,
  "nbformat_minor": 0,
  "metadata": {
    "colab": {
      "name": "Detecção de Fraudes.ipynb",
      "provenance": [],
      "authorship_tag": "ABX9TyO8cByaJQWmBxaKvoYYflUY",
      "include_colab_link": true
    },
    "kernelspec": {
      "name": "python3",
      "display_name": "Python 3"
    }
  },
  "cells": [
    {
      "cell_type": "markdown",
      "metadata": {
        "id": "view-in-github",
        "colab_type": "text"
      },
      "source": [
        "<a href=\"https://colab.research.google.com/github/brunopiruka/neurocientista.com.br/blob/master/Detec%C3%A7%C3%A3o_de_Fraudes.ipynb\" target=\"_parent\"><img src=\"https://colab.research.google.com/assets/colab-badge.svg\" alt=\"Open In Colab\"/></a>"
      ]
    },
    {
      "cell_type": "markdown",
      "metadata": {
        "id": "bc6C9gIyYIB4",
        "colab_type": "text"
      },
      "source": [
        "![Neurocientista.com.br](https://raw.githubusercontent.com/brunopiruka/neurocientista.com.br/master/dataset/logo.png)\n",
        "\n",
        "*por [Bruno_Piruka](https://neurocientista.com.br/)*\n",
        "\n",
        "\n",
        "---"
      ]
    },
    {
      "cell_type": "markdown",
      "metadata": {
        "id": "ZJcevfKVa6Wz",
        "colab_type": "text"
      },
      "source": [
        "# Detecção de Fraudes em Cartões de Crédito\n",
        "\n",
        "Cada vez mais é comum as pessoas acumularem cartões e mais cartões de crédito, muitas vezes eles nem existem \"fisicamente\", apenas virtualmente em celulares, relógios, pulseiras, etc.\n",
        "\n",
        "A emissão já não é mais exclusiva dos grandes bancos, desde *fintechs* até lojas de departamento possuem autonomia para emitir e gerir seus cartões.\n",
        "\n",
        "![alt text](https://image.freepik.com/vetores-gratis/ilustracao-do-conceito-de-carteira_114360-1558.jpg)\n",
        "\n",
        "Desta forma, é esperado também que o número de fraudes envolvendo cartões aumente proporcionalmente, tal como a preocupação em evitá-las.\n",
        "\n",
        "Com base nesse cenário, uma janela de oportunidade se abre para a Ciência de Dados - lidar com um volume colossal de transações financeiras evitando aquelas que sejam fraudelentas.\n",
        "\n",
        "A melhor formar para isso é utilizar da Inteligência Artificial, treinando modelos com base nas informações anteriores, para prever ações e transações futuras.\n",
        "\n",
        "Com isso, protegendo todas as esferas envolvidas; consumidor, fornecedor, \"bandeira\" e instituição emissora.\n"
      ]
    },
    {
      "cell_type": "markdown",
      "metadata": {
        "id": "3VOFOKmPb_uC",
        "colab_type": "text"
      },
      "source": [
        "# Obtenção dos Dados\n",
        "\n",
        "Os dados utilizados para o projeto foram consolidados a partir de operadoras de crédito europeias e disponibilizados anonimamente* - as colunas não apresentam idenficação, cotém apenas os rótulos $V1,V2,V3...\\space \\space V28$, assim por diante - para descaracterizar os valores, sem perder o teor estatístico, foi realizada uma transformação utilizando Análise de Componentes Principais *(Principal Component Analysis - **PCA**)*\n",
        "\n",
        "Representam as transações realizadas do decorrer de 2 dias durante o mês de Setembro de 2013. Dessas transações 492 foram fraudes, dentre as 284.807 totais.\n",
        "\n",
        "A primeira informação relevante que já tiramos nessa primeira análise, é que a base de dados é extremamente desbalanceada, ou seja, um número muito pequeno - cerca de $0,173\\%$ - representam de fato fraudes.\n",
        "\n",
        "<img src=\"https://image.freepik.com/vetores-gratis/ilustracao-de-pagamento-on-line-com-cartao-de-credito_53876-8120.jpg\" width=\"40%\">\n",
        "\n",
        "---\n",
        "*A página que serviu como base pode ser consultada pelo Link: [https://www.kaggle.com/mlg-ulb/creditcardfraud](https://www.kaggle.com/mlg-ulb/creditcardfraud)\n",
        "\n",
        "\n",
        "\n"
      ]
    },
    {
      "cell_type": "markdown",
      "metadata": {
        "id": "birq6nPulQP_",
        "colab_type": "text"
      },
      "source": [
        "#Importando os Dados\n",
        "\n",
        "Vamos utilizar o arquivo disponibilizado, `credicard.csv`, uma cópia foi disponibilizada no [link](https://www.dropbox.com/s/b44o3t3ehmnx2b7/creditcard.csv?dl=1)\n",
        "\n",
        "\n",
        "\n",
        "\n",
        "\n"
      ]
    },
    {
      "cell_type": "code",
      "metadata": {
        "id": "AVhrj357FM4Q",
        "colab_type": "code",
        "colab": {}
      },
      "source": [
        "# Importando bibliotecas necessárias\n",
        "\n",
        "import numpy as np\n",
        "import pandas as pd\n",
        "import matplotlib.pyplot as plt\n",
        "import seaborn as sns\n",
        "sns.set()\n",
        "from sklearn.metrics import classification_report, confusion_matrix, roc_auc_score, roc_curve, accuracy_score\n",
        "from sklearn.model_selection import train_test_split\n",
        "from sklearn.preprocessing import StandardScaler\n",
        "from sklearn.linear_model import LogisticRegression\n"
      ],
      "execution_count": 125,
      "outputs": []
    },
    {
      "cell_type": "code",
      "metadata": {
        "id": "qQsdpqZ6G7Kl",
        "colab_type": "code",
        "colab": {}
      },
      "source": [
        "# Importanto os dados para um dataframe\n",
        "\n",
        "dados = \"https://www.dropbox.com/s/b44o3t3ehmnx2b7/creditcard.csv?dl=1\"\n",
        "df = pd.read_csv(dados)\n",
        "\n"
      ],
      "execution_count": 19,
      "outputs": []
    },
    {
      "cell_type": "markdown",
      "metadata": {
        "id": "HrDe20oGHS_0",
        "colab_type": "text"
      },
      "source": [
        "## Análise Prévias dos Dados\n",
        "\n",
        "Com o intuito de conhecer melhor nossa base de dados, iniciaremos explorando as variáveis e seu resumo estatístico\n",
        "\n",
        "* Vizualizando as primeiras entradas"
      ]
    },
    {
      "cell_type": "code",
      "metadata": {
        "id": "kQHeVroDJNpY",
        "colab_type": "code",
        "colab": {
          "base_uri": "https://localhost:8080/",
          "height": 224
        },
        "outputId": "54832331-2bd6-4623-9f92-a79bd47bc2bd"
      },
      "source": [
        "#Visualizando as primeiras entradas\n",
        "df.head()"
      ],
      "execution_count": 20,
      "outputs": [
        {
          "output_type": "execute_result",
          "data": {
            "text/html": [
              "<div>\n",
              "<style scoped>\n",
              "    .dataframe tbody tr th:only-of-type {\n",
              "        vertical-align: middle;\n",
              "    }\n",
              "\n",
              "    .dataframe tbody tr th {\n",
              "        vertical-align: top;\n",
              "    }\n",
              "\n",
              "    .dataframe thead th {\n",
              "        text-align: right;\n",
              "    }\n",
              "</style>\n",
              "<table border=\"1\" class=\"dataframe\">\n",
              "  <thead>\n",
              "    <tr style=\"text-align: right;\">\n",
              "      <th></th>\n",
              "      <th>Time</th>\n",
              "      <th>V1</th>\n",
              "      <th>V2</th>\n",
              "      <th>V3</th>\n",
              "      <th>V4</th>\n",
              "      <th>V5</th>\n",
              "      <th>V6</th>\n",
              "      <th>V7</th>\n",
              "      <th>V8</th>\n",
              "      <th>V9</th>\n",
              "      <th>V10</th>\n",
              "      <th>V11</th>\n",
              "      <th>V12</th>\n",
              "      <th>V13</th>\n",
              "      <th>V14</th>\n",
              "      <th>V15</th>\n",
              "      <th>V16</th>\n",
              "      <th>V17</th>\n",
              "      <th>V18</th>\n",
              "      <th>V19</th>\n",
              "      <th>V20</th>\n",
              "      <th>V21</th>\n",
              "      <th>V22</th>\n",
              "      <th>V23</th>\n",
              "      <th>V24</th>\n",
              "      <th>V25</th>\n",
              "      <th>V26</th>\n",
              "      <th>V27</th>\n",
              "      <th>V28</th>\n",
              "      <th>Amount</th>\n",
              "      <th>Class</th>\n",
              "    </tr>\n",
              "  </thead>\n",
              "  <tbody>\n",
              "    <tr>\n",
              "      <th>0</th>\n",
              "      <td>0.0</td>\n",
              "      <td>-1.359807</td>\n",
              "      <td>-0.072781</td>\n",
              "      <td>2.536347</td>\n",
              "      <td>1.378155</td>\n",
              "      <td>-0.338321</td>\n",
              "      <td>0.462388</td>\n",
              "      <td>0.239599</td>\n",
              "      <td>0.098698</td>\n",
              "      <td>0.363787</td>\n",
              "      <td>0.090794</td>\n",
              "      <td>-0.551600</td>\n",
              "      <td>-0.617801</td>\n",
              "      <td>-0.991390</td>\n",
              "      <td>-0.311169</td>\n",
              "      <td>1.468177</td>\n",
              "      <td>-0.470401</td>\n",
              "      <td>0.207971</td>\n",
              "      <td>0.025791</td>\n",
              "      <td>0.403993</td>\n",
              "      <td>0.251412</td>\n",
              "      <td>-0.018307</td>\n",
              "      <td>0.277838</td>\n",
              "      <td>-0.110474</td>\n",
              "      <td>0.066928</td>\n",
              "      <td>0.128539</td>\n",
              "      <td>-0.189115</td>\n",
              "      <td>0.133558</td>\n",
              "      <td>-0.021053</td>\n",
              "      <td>149.62</td>\n",
              "      <td>0</td>\n",
              "    </tr>\n",
              "    <tr>\n",
              "      <th>1</th>\n",
              "      <td>0.0</td>\n",
              "      <td>1.191857</td>\n",
              "      <td>0.266151</td>\n",
              "      <td>0.166480</td>\n",
              "      <td>0.448154</td>\n",
              "      <td>0.060018</td>\n",
              "      <td>-0.082361</td>\n",
              "      <td>-0.078803</td>\n",
              "      <td>0.085102</td>\n",
              "      <td>-0.255425</td>\n",
              "      <td>-0.166974</td>\n",
              "      <td>1.612727</td>\n",
              "      <td>1.065235</td>\n",
              "      <td>0.489095</td>\n",
              "      <td>-0.143772</td>\n",
              "      <td>0.635558</td>\n",
              "      <td>0.463917</td>\n",
              "      <td>-0.114805</td>\n",
              "      <td>-0.183361</td>\n",
              "      <td>-0.145783</td>\n",
              "      <td>-0.069083</td>\n",
              "      <td>-0.225775</td>\n",
              "      <td>-0.638672</td>\n",
              "      <td>0.101288</td>\n",
              "      <td>-0.339846</td>\n",
              "      <td>0.167170</td>\n",
              "      <td>0.125895</td>\n",
              "      <td>-0.008983</td>\n",
              "      <td>0.014724</td>\n",
              "      <td>2.69</td>\n",
              "      <td>0</td>\n",
              "    </tr>\n",
              "    <tr>\n",
              "      <th>2</th>\n",
              "      <td>1.0</td>\n",
              "      <td>-1.358354</td>\n",
              "      <td>-1.340163</td>\n",
              "      <td>1.773209</td>\n",
              "      <td>0.379780</td>\n",
              "      <td>-0.503198</td>\n",
              "      <td>1.800499</td>\n",
              "      <td>0.791461</td>\n",
              "      <td>0.247676</td>\n",
              "      <td>-1.514654</td>\n",
              "      <td>0.207643</td>\n",
              "      <td>0.624501</td>\n",
              "      <td>0.066084</td>\n",
              "      <td>0.717293</td>\n",
              "      <td>-0.165946</td>\n",
              "      <td>2.345865</td>\n",
              "      <td>-2.890083</td>\n",
              "      <td>1.109969</td>\n",
              "      <td>-0.121359</td>\n",
              "      <td>-2.261857</td>\n",
              "      <td>0.524980</td>\n",
              "      <td>0.247998</td>\n",
              "      <td>0.771679</td>\n",
              "      <td>0.909412</td>\n",
              "      <td>-0.689281</td>\n",
              "      <td>-0.327642</td>\n",
              "      <td>-0.139097</td>\n",
              "      <td>-0.055353</td>\n",
              "      <td>-0.059752</td>\n",
              "      <td>378.66</td>\n",
              "      <td>0</td>\n",
              "    </tr>\n",
              "    <tr>\n",
              "      <th>3</th>\n",
              "      <td>1.0</td>\n",
              "      <td>-0.966272</td>\n",
              "      <td>-0.185226</td>\n",
              "      <td>1.792993</td>\n",
              "      <td>-0.863291</td>\n",
              "      <td>-0.010309</td>\n",
              "      <td>1.247203</td>\n",
              "      <td>0.237609</td>\n",
              "      <td>0.377436</td>\n",
              "      <td>-1.387024</td>\n",
              "      <td>-0.054952</td>\n",
              "      <td>-0.226487</td>\n",
              "      <td>0.178228</td>\n",
              "      <td>0.507757</td>\n",
              "      <td>-0.287924</td>\n",
              "      <td>-0.631418</td>\n",
              "      <td>-1.059647</td>\n",
              "      <td>-0.684093</td>\n",
              "      <td>1.965775</td>\n",
              "      <td>-1.232622</td>\n",
              "      <td>-0.208038</td>\n",
              "      <td>-0.108300</td>\n",
              "      <td>0.005274</td>\n",
              "      <td>-0.190321</td>\n",
              "      <td>-1.175575</td>\n",
              "      <td>0.647376</td>\n",
              "      <td>-0.221929</td>\n",
              "      <td>0.062723</td>\n",
              "      <td>0.061458</td>\n",
              "      <td>123.50</td>\n",
              "      <td>0</td>\n",
              "    </tr>\n",
              "    <tr>\n",
              "      <th>4</th>\n",
              "      <td>2.0</td>\n",
              "      <td>-1.158233</td>\n",
              "      <td>0.877737</td>\n",
              "      <td>1.548718</td>\n",
              "      <td>0.403034</td>\n",
              "      <td>-0.407193</td>\n",
              "      <td>0.095921</td>\n",
              "      <td>0.592941</td>\n",
              "      <td>-0.270533</td>\n",
              "      <td>0.817739</td>\n",
              "      <td>0.753074</td>\n",
              "      <td>-0.822843</td>\n",
              "      <td>0.538196</td>\n",
              "      <td>1.345852</td>\n",
              "      <td>-1.119670</td>\n",
              "      <td>0.175121</td>\n",
              "      <td>-0.451449</td>\n",
              "      <td>-0.237033</td>\n",
              "      <td>-0.038195</td>\n",
              "      <td>0.803487</td>\n",
              "      <td>0.408542</td>\n",
              "      <td>-0.009431</td>\n",
              "      <td>0.798278</td>\n",
              "      <td>-0.137458</td>\n",
              "      <td>0.141267</td>\n",
              "      <td>-0.206010</td>\n",
              "      <td>0.502292</td>\n",
              "      <td>0.219422</td>\n",
              "      <td>0.215153</td>\n",
              "      <td>69.99</td>\n",
              "      <td>0</td>\n",
              "    </tr>\n",
              "  </tbody>\n",
              "</table>\n",
              "</div>"
            ],
            "text/plain": [
              "   Time        V1        V2        V3  ...       V27       V28  Amount  Class\n",
              "0   0.0 -1.359807 -0.072781  2.536347  ...  0.133558 -0.021053  149.62      0\n",
              "1   0.0  1.191857  0.266151  0.166480  ... -0.008983  0.014724    2.69      0\n",
              "2   1.0 -1.358354 -1.340163  1.773209  ... -0.055353 -0.059752  378.66      0\n",
              "3   1.0 -0.966272 -0.185226  1.792993  ...  0.062723  0.061458  123.50      0\n",
              "4   2.0 -1.158233  0.877737  1.548718  ...  0.219422  0.215153   69.99      0\n",
              "\n",
              "[5 rows x 31 columns]"
            ]
          },
          "metadata": {
            "tags": []
          },
          "execution_count": 20
        }
      ]
    },
    {
      "cell_type": "markdown",
      "metadata": {
        "id": "DQogCSxcJQ42",
        "colab_type": "text"
      },
      "source": [
        "Percebe-se aqui que as únicas colunas \"caracterizadas\" são as colunas `Time`, `Amount` e `Class`, sendo a última nossa variável alvo, que será usada da seguinte forma:\n",
        "\n",
        "* **0**: Operação Normal\n",
        "* **1**: Operação fraudelenta "
      ]
    },
    {
      "cell_type": "code",
      "metadata": {
        "id": "ZX78hvQKHhBX",
        "colab_type": "code",
        "colab": {
          "base_uri": "https://localhost:8080/",
          "height": 317
        },
        "outputId": "d2714311-5b39-4bc6-d95d-5fdd54d878e7"
      },
      "source": [
        "# Resumo Estatístico\n",
        "\n",
        "df.describe()"
      ],
      "execution_count": 21,
      "outputs": [
        {
          "output_type": "execute_result",
          "data": {
            "text/html": [
              "<div>\n",
              "<style scoped>\n",
              "    .dataframe tbody tr th:only-of-type {\n",
              "        vertical-align: middle;\n",
              "    }\n",
              "\n",
              "    .dataframe tbody tr th {\n",
              "        vertical-align: top;\n",
              "    }\n",
              "\n",
              "    .dataframe thead th {\n",
              "        text-align: right;\n",
              "    }\n",
              "</style>\n",
              "<table border=\"1\" class=\"dataframe\">\n",
              "  <thead>\n",
              "    <tr style=\"text-align: right;\">\n",
              "      <th></th>\n",
              "      <th>Time</th>\n",
              "      <th>V1</th>\n",
              "      <th>V2</th>\n",
              "      <th>V3</th>\n",
              "      <th>V4</th>\n",
              "      <th>V5</th>\n",
              "      <th>V6</th>\n",
              "      <th>V7</th>\n",
              "      <th>V8</th>\n",
              "      <th>V9</th>\n",
              "      <th>V10</th>\n",
              "      <th>V11</th>\n",
              "      <th>V12</th>\n",
              "      <th>V13</th>\n",
              "      <th>V14</th>\n",
              "      <th>V15</th>\n",
              "      <th>V16</th>\n",
              "      <th>V17</th>\n",
              "      <th>V18</th>\n",
              "      <th>V19</th>\n",
              "      <th>V20</th>\n",
              "      <th>V21</th>\n",
              "      <th>V22</th>\n",
              "      <th>V23</th>\n",
              "      <th>V24</th>\n",
              "      <th>V25</th>\n",
              "      <th>V26</th>\n",
              "      <th>V27</th>\n",
              "      <th>V28</th>\n",
              "      <th>Amount</th>\n",
              "      <th>Class</th>\n",
              "    </tr>\n",
              "  </thead>\n",
              "  <tbody>\n",
              "    <tr>\n",
              "      <th>count</th>\n",
              "      <td>284807.000000</td>\n",
              "      <td>2.848070e+05</td>\n",
              "      <td>2.848070e+05</td>\n",
              "      <td>2.848070e+05</td>\n",
              "      <td>2.848070e+05</td>\n",
              "      <td>2.848070e+05</td>\n",
              "      <td>2.848070e+05</td>\n",
              "      <td>2.848070e+05</td>\n",
              "      <td>2.848070e+05</td>\n",
              "      <td>2.848070e+05</td>\n",
              "      <td>2.848070e+05</td>\n",
              "      <td>2.848070e+05</td>\n",
              "      <td>2.848070e+05</td>\n",
              "      <td>2.848070e+05</td>\n",
              "      <td>2.848070e+05</td>\n",
              "      <td>2.848070e+05</td>\n",
              "      <td>2.848070e+05</td>\n",
              "      <td>2.848070e+05</td>\n",
              "      <td>2.848070e+05</td>\n",
              "      <td>2.848070e+05</td>\n",
              "      <td>2.848070e+05</td>\n",
              "      <td>2.848070e+05</td>\n",
              "      <td>2.848070e+05</td>\n",
              "      <td>2.848070e+05</td>\n",
              "      <td>2.848070e+05</td>\n",
              "      <td>2.848070e+05</td>\n",
              "      <td>2.848070e+05</td>\n",
              "      <td>2.848070e+05</td>\n",
              "      <td>2.848070e+05</td>\n",
              "      <td>284807.000000</td>\n",
              "      <td>284807.000000</td>\n",
              "    </tr>\n",
              "    <tr>\n",
              "      <th>mean</th>\n",
              "      <td>94813.859575</td>\n",
              "      <td>3.919560e-15</td>\n",
              "      <td>5.688174e-16</td>\n",
              "      <td>-8.769071e-15</td>\n",
              "      <td>2.782312e-15</td>\n",
              "      <td>-1.552563e-15</td>\n",
              "      <td>2.010663e-15</td>\n",
              "      <td>-1.694249e-15</td>\n",
              "      <td>-1.927028e-16</td>\n",
              "      <td>-3.137024e-15</td>\n",
              "      <td>1.768627e-15</td>\n",
              "      <td>9.170318e-16</td>\n",
              "      <td>-1.810658e-15</td>\n",
              "      <td>1.693438e-15</td>\n",
              "      <td>1.479045e-15</td>\n",
              "      <td>3.482336e-15</td>\n",
              "      <td>1.392007e-15</td>\n",
              "      <td>-7.528491e-16</td>\n",
              "      <td>4.328772e-16</td>\n",
              "      <td>9.049732e-16</td>\n",
              "      <td>5.085503e-16</td>\n",
              "      <td>1.537294e-16</td>\n",
              "      <td>7.959909e-16</td>\n",
              "      <td>5.367590e-16</td>\n",
              "      <td>4.458112e-15</td>\n",
              "      <td>1.453003e-15</td>\n",
              "      <td>1.699104e-15</td>\n",
              "      <td>-3.660161e-16</td>\n",
              "      <td>-1.206049e-16</td>\n",
              "      <td>88.349619</td>\n",
              "      <td>0.001727</td>\n",
              "    </tr>\n",
              "    <tr>\n",
              "      <th>std</th>\n",
              "      <td>47488.145955</td>\n",
              "      <td>1.958696e+00</td>\n",
              "      <td>1.651309e+00</td>\n",
              "      <td>1.516255e+00</td>\n",
              "      <td>1.415869e+00</td>\n",
              "      <td>1.380247e+00</td>\n",
              "      <td>1.332271e+00</td>\n",
              "      <td>1.237094e+00</td>\n",
              "      <td>1.194353e+00</td>\n",
              "      <td>1.098632e+00</td>\n",
              "      <td>1.088850e+00</td>\n",
              "      <td>1.020713e+00</td>\n",
              "      <td>9.992014e-01</td>\n",
              "      <td>9.952742e-01</td>\n",
              "      <td>9.585956e-01</td>\n",
              "      <td>9.153160e-01</td>\n",
              "      <td>8.762529e-01</td>\n",
              "      <td>8.493371e-01</td>\n",
              "      <td>8.381762e-01</td>\n",
              "      <td>8.140405e-01</td>\n",
              "      <td>7.709250e-01</td>\n",
              "      <td>7.345240e-01</td>\n",
              "      <td>7.257016e-01</td>\n",
              "      <td>6.244603e-01</td>\n",
              "      <td>6.056471e-01</td>\n",
              "      <td>5.212781e-01</td>\n",
              "      <td>4.822270e-01</td>\n",
              "      <td>4.036325e-01</td>\n",
              "      <td>3.300833e-01</td>\n",
              "      <td>250.120109</td>\n",
              "      <td>0.041527</td>\n",
              "    </tr>\n",
              "    <tr>\n",
              "      <th>min</th>\n",
              "      <td>0.000000</td>\n",
              "      <td>-5.640751e+01</td>\n",
              "      <td>-7.271573e+01</td>\n",
              "      <td>-4.832559e+01</td>\n",
              "      <td>-5.683171e+00</td>\n",
              "      <td>-1.137433e+02</td>\n",
              "      <td>-2.616051e+01</td>\n",
              "      <td>-4.355724e+01</td>\n",
              "      <td>-7.321672e+01</td>\n",
              "      <td>-1.343407e+01</td>\n",
              "      <td>-2.458826e+01</td>\n",
              "      <td>-4.797473e+00</td>\n",
              "      <td>-1.868371e+01</td>\n",
              "      <td>-5.791881e+00</td>\n",
              "      <td>-1.921433e+01</td>\n",
              "      <td>-4.498945e+00</td>\n",
              "      <td>-1.412985e+01</td>\n",
              "      <td>-2.516280e+01</td>\n",
              "      <td>-9.498746e+00</td>\n",
              "      <td>-7.213527e+00</td>\n",
              "      <td>-5.449772e+01</td>\n",
              "      <td>-3.483038e+01</td>\n",
              "      <td>-1.093314e+01</td>\n",
              "      <td>-4.480774e+01</td>\n",
              "      <td>-2.836627e+00</td>\n",
              "      <td>-1.029540e+01</td>\n",
              "      <td>-2.604551e+00</td>\n",
              "      <td>-2.256568e+01</td>\n",
              "      <td>-1.543008e+01</td>\n",
              "      <td>0.000000</td>\n",
              "      <td>0.000000</td>\n",
              "    </tr>\n",
              "    <tr>\n",
              "      <th>25%</th>\n",
              "      <td>54201.500000</td>\n",
              "      <td>-9.203734e-01</td>\n",
              "      <td>-5.985499e-01</td>\n",
              "      <td>-8.903648e-01</td>\n",
              "      <td>-8.486401e-01</td>\n",
              "      <td>-6.915971e-01</td>\n",
              "      <td>-7.682956e-01</td>\n",
              "      <td>-5.540759e-01</td>\n",
              "      <td>-2.086297e-01</td>\n",
              "      <td>-6.430976e-01</td>\n",
              "      <td>-5.354257e-01</td>\n",
              "      <td>-7.624942e-01</td>\n",
              "      <td>-4.055715e-01</td>\n",
              "      <td>-6.485393e-01</td>\n",
              "      <td>-4.255740e-01</td>\n",
              "      <td>-5.828843e-01</td>\n",
              "      <td>-4.680368e-01</td>\n",
              "      <td>-4.837483e-01</td>\n",
              "      <td>-4.988498e-01</td>\n",
              "      <td>-4.562989e-01</td>\n",
              "      <td>-2.117214e-01</td>\n",
              "      <td>-2.283949e-01</td>\n",
              "      <td>-5.423504e-01</td>\n",
              "      <td>-1.618463e-01</td>\n",
              "      <td>-3.545861e-01</td>\n",
              "      <td>-3.171451e-01</td>\n",
              "      <td>-3.269839e-01</td>\n",
              "      <td>-7.083953e-02</td>\n",
              "      <td>-5.295979e-02</td>\n",
              "      <td>5.600000</td>\n",
              "      <td>0.000000</td>\n",
              "    </tr>\n",
              "    <tr>\n",
              "      <th>50%</th>\n",
              "      <td>84692.000000</td>\n",
              "      <td>1.810880e-02</td>\n",
              "      <td>6.548556e-02</td>\n",
              "      <td>1.798463e-01</td>\n",
              "      <td>-1.984653e-02</td>\n",
              "      <td>-5.433583e-02</td>\n",
              "      <td>-2.741871e-01</td>\n",
              "      <td>4.010308e-02</td>\n",
              "      <td>2.235804e-02</td>\n",
              "      <td>-5.142873e-02</td>\n",
              "      <td>-9.291738e-02</td>\n",
              "      <td>-3.275735e-02</td>\n",
              "      <td>1.400326e-01</td>\n",
              "      <td>-1.356806e-02</td>\n",
              "      <td>5.060132e-02</td>\n",
              "      <td>4.807155e-02</td>\n",
              "      <td>6.641332e-02</td>\n",
              "      <td>-6.567575e-02</td>\n",
              "      <td>-3.636312e-03</td>\n",
              "      <td>3.734823e-03</td>\n",
              "      <td>-6.248109e-02</td>\n",
              "      <td>-2.945017e-02</td>\n",
              "      <td>6.781943e-03</td>\n",
              "      <td>-1.119293e-02</td>\n",
              "      <td>4.097606e-02</td>\n",
              "      <td>1.659350e-02</td>\n",
              "      <td>-5.213911e-02</td>\n",
              "      <td>1.342146e-03</td>\n",
              "      <td>1.124383e-02</td>\n",
              "      <td>22.000000</td>\n",
              "      <td>0.000000</td>\n",
              "    </tr>\n",
              "    <tr>\n",
              "      <th>75%</th>\n",
              "      <td>139320.500000</td>\n",
              "      <td>1.315642e+00</td>\n",
              "      <td>8.037239e-01</td>\n",
              "      <td>1.027196e+00</td>\n",
              "      <td>7.433413e-01</td>\n",
              "      <td>6.119264e-01</td>\n",
              "      <td>3.985649e-01</td>\n",
              "      <td>5.704361e-01</td>\n",
              "      <td>3.273459e-01</td>\n",
              "      <td>5.971390e-01</td>\n",
              "      <td>4.539234e-01</td>\n",
              "      <td>7.395934e-01</td>\n",
              "      <td>6.182380e-01</td>\n",
              "      <td>6.625050e-01</td>\n",
              "      <td>4.931498e-01</td>\n",
              "      <td>6.488208e-01</td>\n",
              "      <td>5.232963e-01</td>\n",
              "      <td>3.996750e-01</td>\n",
              "      <td>5.008067e-01</td>\n",
              "      <td>4.589494e-01</td>\n",
              "      <td>1.330408e-01</td>\n",
              "      <td>1.863772e-01</td>\n",
              "      <td>5.285536e-01</td>\n",
              "      <td>1.476421e-01</td>\n",
              "      <td>4.395266e-01</td>\n",
              "      <td>3.507156e-01</td>\n",
              "      <td>2.409522e-01</td>\n",
              "      <td>9.104512e-02</td>\n",
              "      <td>7.827995e-02</td>\n",
              "      <td>77.165000</td>\n",
              "      <td>0.000000</td>\n",
              "    </tr>\n",
              "    <tr>\n",
              "      <th>max</th>\n",
              "      <td>172792.000000</td>\n",
              "      <td>2.454930e+00</td>\n",
              "      <td>2.205773e+01</td>\n",
              "      <td>9.382558e+00</td>\n",
              "      <td>1.687534e+01</td>\n",
              "      <td>3.480167e+01</td>\n",
              "      <td>7.330163e+01</td>\n",
              "      <td>1.205895e+02</td>\n",
              "      <td>2.000721e+01</td>\n",
              "      <td>1.559499e+01</td>\n",
              "      <td>2.374514e+01</td>\n",
              "      <td>1.201891e+01</td>\n",
              "      <td>7.848392e+00</td>\n",
              "      <td>7.126883e+00</td>\n",
              "      <td>1.052677e+01</td>\n",
              "      <td>8.877742e+00</td>\n",
              "      <td>1.731511e+01</td>\n",
              "      <td>9.253526e+00</td>\n",
              "      <td>5.041069e+00</td>\n",
              "      <td>5.591971e+00</td>\n",
              "      <td>3.942090e+01</td>\n",
              "      <td>2.720284e+01</td>\n",
              "      <td>1.050309e+01</td>\n",
              "      <td>2.252841e+01</td>\n",
              "      <td>4.584549e+00</td>\n",
              "      <td>7.519589e+00</td>\n",
              "      <td>3.517346e+00</td>\n",
              "      <td>3.161220e+01</td>\n",
              "      <td>3.384781e+01</td>\n",
              "      <td>25691.160000</td>\n",
              "      <td>1.000000</td>\n",
              "    </tr>\n",
              "  </tbody>\n",
              "</table>\n",
              "</div>"
            ],
            "text/plain": [
              "                Time            V1  ...         Amount          Class\n",
              "count  284807.000000  2.848070e+05  ...  284807.000000  284807.000000\n",
              "mean    94813.859575  3.919560e-15  ...      88.349619       0.001727\n",
              "std     47488.145955  1.958696e+00  ...     250.120109       0.041527\n",
              "min         0.000000 -5.640751e+01  ...       0.000000       0.000000\n",
              "25%     54201.500000 -9.203734e-01  ...       5.600000       0.000000\n",
              "50%     84692.000000  1.810880e-02  ...      22.000000       0.000000\n",
              "75%    139320.500000  1.315642e+00  ...      77.165000       0.000000\n",
              "max    172792.000000  2.454930e+00  ...   25691.160000       1.000000\n",
              "\n",
              "[8 rows x 31 columns]"
            ]
          },
          "metadata": {
            "tags": []
          },
          "execution_count": 21
        }
      ]
    },
    {
      "cell_type": "markdown",
      "metadata": {
        "id": "rOxnSWwwJPyF",
        "colab_type": "text"
      },
      "source": [
        "* Buscando dados ausentes\n"
      ]
    },
    {
      "cell_type": "code",
      "metadata": {
        "id": "GiQZ-KBcITel",
        "colab_type": "code",
        "colab": {
          "base_uri": "https://localhost:8080/",
          "height": 561
        },
        "outputId": "60fdb63e-1eb3-462d-a032-b10b44d77b8b"
      },
      "source": [
        "#buscando dados ausentes\n",
        "\n",
        "df.isnull().sum()"
      ],
      "execution_count": 22,
      "outputs": [
        {
          "output_type": "execute_result",
          "data": {
            "text/plain": [
              "Time      0\n",
              "V1        0\n",
              "V2        0\n",
              "V3        0\n",
              "V4        0\n",
              "V5        0\n",
              "V6        0\n",
              "V7        0\n",
              "V8        0\n",
              "V9        0\n",
              "V10       0\n",
              "V11       0\n",
              "V12       0\n",
              "V13       0\n",
              "V14       0\n",
              "V15       0\n",
              "V16       0\n",
              "V17       0\n",
              "V18       0\n",
              "V19       0\n",
              "V20       0\n",
              "V21       0\n",
              "V22       0\n",
              "V23       0\n",
              "V24       0\n",
              "V25       0\n",
              "V26       0\n",
              "V27       0\n",
              "V28       0\n",
              "Amount    0\n",
              "Class     0\n",
              "dtype: int64"
            ]
          },
          "metadata": {
            "tags": []
          },
          "execution_count": 22
        }
      ]
    },
    {
      "cell_type": "markdown",
      "metadata": {
        "id": "44PlZ0vjOFFt",
        "colab_type": "text"
      },
      "source": [
        "Uma vez que não existem dados faltantes, não haverá necessidade de realizar uma \"limpeza\" nas entradas nulas"
      ]
    },
    {
      "cell_type": "markdown",
      "metadata": {
        "id": "kJxr0aecnArV",
        "colab_type": "text"
      },
      "source": [
        "Tendo em vista que já percebemo que o dataset é muito desbalanceado, onde apenas 0,173% representa operações fraudulentas, vamos ilustrar graficamente esse ponto:"
      ]
    },
    {
      "cell_type": "code",
      "metadata": {
        "id": "Y3XLpetJnnsU",
        "colab_type": "code",
        "colab": {
          "base_uri": "https://localhost:8080/",
          "height": 102
        },
        "outputId": "b3cf8f33-526e-49f6-df3f-e31a5a8e76f9"
      },
      "source": [
        "# Chamando as entradas\n",
        "print(df.Class.value_counts())\n",
        "print('\\n{:.3f}% das entradas representam fraudes'.format(df[df.Class == 1].shape[0]/df.shape[0] * 100))"
      ],
      "execution_count": 23,
      "outputs": [
        {
          "output_type": "stream",
          "text": [
            "0    284315\n",
            "1       492\n",
            "Name: Class, dtype: int64\n",
            "\n",
            "0.173% das entradas representam fraudes\n"
          ],
          "name": "stdout"
        }
      ]
    },
    {
      "cell_type": "code",
      "metadata": {
        "id": "VfnrJdaVnzKJ",
        "colab_type": "code",
        "colab": {
          "base_uri": "https://localhost:8080/",
          "height": 323
        },
        "outputId": "bc10dd39-358e-482f-bcaf-e07f784f5bba"
      },
      "source": [
        "# Visualizando em Gráfico\n",
        "\n",
        "fig, ax = plt.subplots()\n",
        "sns.countplot('Class', data=df, ax=ax)\n",
        "ax.set_xlabel('Class', size='14')\n",
        "ax.set_ylabel('Contagem', size='14')\n",
        "ax.set_title('Distribuição', size='18')\n",
        "\n",
        "plt.xticks([0,1],['Reais','Fraudulentas'])\n",
        "\n",
        "plt.plot()"
      ],
      "execution_count": 47,
      "outputs": [
        {
          "output_type": "execute_result",
          "data": {
            "text/plain": [
              "[]"
            ]
          },
          "metadata": {
            "tags": []
          },
          "execution_count": 47
        },
        {
          "output_type": "display_data",
          "data": {
            "image/png": "[encoded data removed]",
            "text/plain": [
              "<Figure size 432x288 with 1 Axes>"
            ]
          },
          "metadata": {
            "tags": []
          }
        }
      ]
    },
    {
      "cell_type": "markdown",
      "metadata": {
        "id": "uBSnuBEZpKwO",
        "colab_type": "text"
      },
      "source": [
        "Apenas como forma de ilustrar outras possibilidades exploratórias, iremos plotar os histrogramas para as variáveis `Time` e `Amount`"
      ]
    },
    {
      "cell_type": "code",
      "metadata": {
        "id": "WJEvxQuV409D",
        "colab_type": "code",
        "colab": {
          "base_uri": "https://localhost:8080/",
          "height": 293
        },
        "outputId": "7e699533-2573-4618-a9a8-415c29f2631b"
      },
      "source": [
        "# Plotando o Histograma para a variável Time\n",
        "\n",
        "fig, ax = plt.subplots(nrows=2, ncols=1)\n",
        "\n",
        "ax[0].hist(df.Time[df.Class == 0], bins=50)\n",
        "ax[0].set_title('Transações Reais')\n",
        "ax[0].set_xlabel('Tempo')\n",
        "ax[0].set_ylabel('Transações')\n",
        "\n",
        "ax[1].hist(df.Time[df.Class == 1], bins=50)\n",
        "ax[1].set_title('Transações Fraudulentas')\n",
        "ax[1].set_xlabel('Tempo')\n",
        "ax[1].set_ylabel('Transações')\n",
        "\n",
        "plt.tight_layout()"
      ],
      "execution_count": 37,
      "outputs": [
        {
          "output_type": "display_data",
          "data": {
            "image/png": "[encoded data removed]",
            "text/plain": [
              "<Figure size 432x288 with 2 Axes>"
            ]
          },
          "metadata": {
            "tags": []
          }
        }
      ]
    },
    {
      "cell_type": "code",
      "metadata": {
        "id": "-XVHYMkd5aEd",
        "colab_type": "code",
        "colab": {
          "base_uri": "https://localhost:8080/",
          "height": 293
        },
        "outputId": "cbc3061f-68a5-4753-ba19-bdd7e4f14117"
      },
      "source": [
        "# Plotando o Histograma para a variável Amount\n",
        "\n",
        "fig, ax = plt.subplots(nrows=2, ncols=1)\n",
        "\n",
        "ax[0].hist(df.Amount[df.Class == 0], bins=50)\n",
        "ax[0].set_title('Transações Reais')\n",
        "ax[0].set_xlabel('Amount')\n",
        "ax[0].set_ylabel('Transações')\n",
        "\n",
        "ax[1].hist(df.Amount[df.Class == 1], bins=50)\n",
        "ax[1].set_title('Transações Fraudulentas')\n",
        "ax[1].set_xlabel('Amount')\n",
        "ax[1].set_ylabel('Transações')\n",
        "\n",
        "plt.tight_layout()"
      ],
      "execution_count": 40,
      "outputs": [
        {
          "output_type": "display_data",
          "data": {
            "image/png": "[encoded data removed]",
            "text/plain": [
              "<Figure size 432x288 with 2 Axes>"
            ]
          },
          "metadata": {
            "tags": []
          }
        }
      ]
    },
    {
      "cell_type": "markdown",
      "metadata": {
        "id": "x6BDc9rB_-yZ",
        "colab_type": "text"
      },
      "source": [
        "Outra forma possível de análise é com base em um *boxplot* que permita verficar se existem padrões distintos entre as operações reais e as fraudulentas"
      ]
    },
    {
      "cell_type": "code",
      "metadata": {
        "id": "ghUcSFlm8Gjv",
        "colab_type": "code",
        "colab": {
          "base_uri": "https://localhost:8080/",
          "height": 293
        },
        "outputId": "756d7690-3564-4eeb-f484-bd0e54799a43"
      },
      "source": [
        "#Plotando o boxplot para a variável Amount em relação a Class\n",
        "fig, ax = plt.subplots()\n",
        "\n",
        "sns.boxplot(df.Class, df.Amount, ax=ax)\n",
        "plt.ylim(-20,400)\n",
        "plt.xticks([0,1],['Reais','Fraudulentas'])\n",
        "plt.xlabel('Tipos de Operações')\n",
        "\n",
        "plt.tight_layout()"
      ],
      "execution_count": 48,
      "outputs": [
        {
          "output_type": "display_data",
          "data": {
            "image/png": "[encoded data removed]",
            "text/plain": [
              "<Figure size 432x288 with 1 Axes>"
            ]
          },
          "metadata": {
            "tags": []
          }
        }
      ]
    },
    {
      "cell_type": "markdown",
      "metadata": {
        "id": "JbGXSvSHDAaZ",
        "colab_type": "text"
      },
      "source": [
        "Antes de prosseguirmos com o balanceamento dos dados, vamos plotar uma matriz de correlação para visualizar a configuração atual de nosso dataset"
      ]
    },
    {
      "cell_type": "code",
      "metadata": {
        "id": "iYYHYUHeBZPI",
        "colab_type": "code",
        "colab": {
          "base_uri": "https://localhost:8080/",
          "height": 581
        },
        "outputId": "439964e1-9993-4cf5-e44b-dc40cc9c34b2"
      },
      "source": [
        "#Plotando uma Matriz de Correlação\n",
        "\n",
        "corr = df.corr()\n",
        "\n",
        "fig, ax = plt.subplots(figsize = (12,8))\n",
        "ax.set_title('Matriz de Correlação', size='16')\n",
        "\n",
        "sns.heatmap(corr, xticklabels=corr.columns, yticklabels=corr.columns, linewidths=.1, cmap='coolwarm', ax=ax)\n",
        "\n",
        "plt.tight_layout()\n"
      ],
      "execution_count": 122,
      "outputs": [
        {
          "output_type": "display_data",
          "data": {
            "image/png": "[encoded data removed]",
            "text/plain": [
              "<Figure size 864x576 with 2 Axes>"
            ]
          },
          "metadata": {
            "tags": []
          }
        }
      ]
    },
    {
      "cell_type": "markdown",
      "metadata": {
        "id": "L6LqaP17Blrw",
        "colab_type": "text"
      },
      "source": [
        "#Preparando os Dados\n",
        "\n",
        "Antes de prossegir para a construção do modelo de *Machine Learning*, devemos normalizar os dados, que ainda não foram pré-processados (`Time`e `Amount`), dividir o conjunto de dados entre um set de treino e um set de teste e, por fim, balancear o conjunto de dados"
      ]
    },
    {
      "cell_type": "code",
      "metadata": {
        "id": "8Df4kKZ0ElG7",
        "colab_type": "code",
        "colab": {
          "base_uri": "https://localhost:8080/",
          "height": 224
        },
        "outputId": "e92379be-c665-4f8a-82c3-12b74b459868"
      },
      "source": [
        "#Normalizando os Dados\n",
        "\n",
        "df_std = df.copy()\n",
        "\n",
        "std_scaler = StandardScaler()\n",
        "df_std['std_amount'] = std_scaler.fit_transform(df_std['Amount'].values.reshape(-1,1))\n",
        "df_std['std_time'] = std_scaler.fit_transform(df_std['Time'].values.reshape(-1,1))\n",
        "\n",
        "df_std.drop(['Amount','Time'], axis=1, inplace=True)\n",
        "\n",
        "#Verificar a alteração\n",
        "df_std.head()\n"
      ],
      "execution_count": 75,
      "outputs": [
        {
          "output_type": "execute_result",
          "data": {
            "text/html": [
              "<div>\n",
              "<style scoped>\n",
              "    .dataframe tbody tr th:only-of-type {\n",
              "        vertical-align: middle;\n",
              "    }\n",
              "\n",
              "    .dataframe tbody tr th {\n",
              "        vertical-align: top;\n",
              "    }\n",
              "\n",
              "    .dataframe thead th {\n",
              "        text-align: right;\n",
              "    }\n",
              "</style>\n",
              "<table border=\"1\" class=\"dataframe\">\n",
              "  <thead>\n",
              "    <tr style=\"text-align: right;\">\n",
              "      <th></th>\n",
              "      <th>V1</th>\n",
              "      <th>V2</th>\n",
              "      <th>V3</th>\n",
              "      <th>V4</th>\n",
              "      <th>V5</th>\n",
              "      <th>V6</th>\n",
              "      <th>V7</th>\n",
              "      <th>V8</th>\n",
              "      <th>V9</th>\n",
              "      <th>V10</th>\n",
              "      <th>V11</th>\n",
              "      <th>V12</th>\n",
              "      <th>V13</th>\n",
              "      <th>V14</th>\n",
              "      <th>V15</th>\n",
              "      <th>V16</th>\n",
              "      <th>V17</th>\n",
              "      <th>V18</th>\n",
              "      <th>V19</th>\n",
              "      <th>V20</th>\n",
              "      <th>V21</th>\n",
              "      <th>V22</th>\n",
              "      <th>V23</th>\n",
              "      <th>V24</th>\n",
              "      <th>V25</th>\n",
              "      <th>V26</th>\n",
              "      <th>V27</th>\n",
              "      <th>V28</th>\n",
              "      <th>Class</th>\n",
              "      <th>std_amount</th>\n",
              "      <th>std_time</th>\n",
              "    </tr>\n",
              "  </thead>\n",
              "  <tbody>\n",
              "    <tr>\n",
              "      <th>0</th>\n",
              "      <td>-1.359807</td>\n",
              "      <td>-0.072781</td>\n",
              "      <td>2.536347</td>\n",
              "      <td>1.378155</td>\n",
              "      <td>-0.338321</td>\n",
              "      <td>0.462388</td>\n",
              "      <td>0.239599</td>\n",
              "      <td>0.098698</td>\n",
              "      <td>0.363787</td>\n",
              "      <td>0.090794</td>\n",
              "      <td>-0.551600</td>\n",
              "      <td>-0.617801</td>\n",
              "      <td>-0.991390</td>\n",
              "      <td>-0.311169</td>\n",
              "      <td>1.468177</td>\n",
              "      <td>-0.470401</td>\n",
              "      <td>0.207971</td>\n",
              "      <td>0.025791</td>\n",
              "      <td>0.403993</td>\n",
              "      <td>0.251412</td>\n",
              "      <td>-0.018307</td>\n",
              "      <td>0.277838</td>\n",
              "      <td>-0.110474</td>\n",
              "      <td>0.066928</td>\n",
              "      <td>0.128539</td>\n",
              "      <td>-0.189115</td>\n",
              "      <td>0.133558</td>\n",
              "      <td>-0.021053</td>\n",
              "      <td>0</td>\n",
              "      <td>0.244964</td>\n",
              "      <td>-1.996583</td>\n",
              "    </tr>\n",
              "    <tr>\n",
              "      <th>1</th>\n",
              "      <td>1.191857</td>\n",
              "      <td>0.266151</td>\n",
              "      <td>0.166480</td>\n",
              "      <td>0.448154</td>\n",
              "      <td>0.060018</td>\n",
              "      <td>-0.082361</td>\n",
              "      <td>-0.078803</td>\n",
              "      <td>0.085102</td>\n",
              "      <td>-0.255425</td>\n",
              "      <td>-0.166974</td>\n",
              "      <td>1.612727</td>\n",
              "      <td>1.065235</td>\n",
              "      <td>0.489095</td>\n",
              "      <td>-0.143772</td>\n",
              "      <td>0.635558</td>\n",
              "      <td>0.463917</td>\n",
              "      <td>-0.114805</td>\n",
              "      <td>-0.183361</td>\n",
              "      <td>-0.145783</td>\n",
              "      <td>-0.069083</td>\n",
              "      <td>-0.225775</td>\n",
              "      <td>-0.638672</td>\n",
              "      <td>0.101288</td>\n",
              "      <td>-0.339846</td>\n",
              "      <td>0.167170</td>\n",
              "      <td>0.125895</td>\n",
              "      <td>-0.008983</td>\n",
              "      <td>0.014724</td>\n",
              "      <td>0</td>\n",
              "      <td>-0.342475</td>\n",
              "      <td>-1.996583</td>\n",
              "    </tr>\n",
              "    <tr>\n",
              "      <th>2</th>\n",
              "      <td>-1.358354</td>\n",
              "      <td>-1.340163</td>\n",
              "      <td>1.773209</td>\n",
              "      <td>0.379780</td>\n",
              "      <td>-0.503198</td>\n",
              "      <td>1.800499</td>\n",
              "      <td>0.791461</td>\n",
              "      <td>0.247676</td>\n",
              "      <td>-1.514654</td>\n",
              "      <td>0.207643</td>\n",
              "      <td>0.624501</td>\n",
              "      <td>0.066084</td>\n",
              "      <td>0.717293</td>\n",
              "      <td>-0.165946</td>\n",
              "      <td>2.345865</td>\n",
              "      <td>-2.890083</td>\n",
              "      <td>1.109969</td>\n",
              "      <td>-0.121359</td>\n",
              "      <td>-2.261857</td>\n",
              "      <td>0.524980</td>\n",
              "      <td>0.247998</td>\n",
              "      <td>0.771679</td>\n",
              "      <td>0.909412</td>\n",
              "      <td>-0.689281</td>\n",
              "      <td>-0.327642</td>\n",
              "      <td>-0.139097</td>\n",
              "      <td>-0.055353</td>\n",
              "      <td>-0.059752</td>\n",
              "      <td>0</td>\n",
              "      <td>1.160686</td>\n",
              "      <td>-1.996562</td>\n",
              "    </tr>\n",
              "    <tr>\n",
              "      <th>3</th>\n",
              "      <td>-0.966272</td>\n",
              "      <td>-0.185226</td>\n",
              "      <td>1.792993</td>\n",
              "      <td>-0.863291</td>\n",
              "      <td>-0.010309</td>\n",
              "      <td>1.247203</td>\n",
              "      <td>0.237609</td>\n",
              "      <td>0.377436</td>\n",
              "      <td>-1.387024</td>\n",
              "      <td>-0.054952</td>\n",
              "      <td>-0.226487</td>\n",
              "      <td>0.178228</td>\n",
              "      <td>0.507757</td>\n",
              "      <td>-0.287924</td>\n",
              "      <td>-0.631418</td>\n",
              "      <td>-1.059647</td>\n",
              "      <td>-0.684093</td>\n",
              "      <td>1.965775</td>\n",
              "      <td>-1.232622</td>\n",
              "      <td>-0.208038</td>\n",
              "      <td>-0.108300</td>\n",
              "      <td>0.005274</td>\n",
              "      <td>-0.190321</td>\n",
              "      <td>-1.175575</td>\n",
              "      <td>0.647376</td>\n",
              "      <td>-0.221929</td>\n",
              "      <td>0.062723</td>\n",
              "      <td>0.061458</td>\n",
              "      <td>0</td>\n",
              "      <td>0.140534</td>\n",
              "      <td>-1.996562</td>\n",
              "    </tr>\n",
              "    <tr>\n",
              "      <th>4</th>\n",
              "      <td>-1.158233</td>\n",
              "      <td>0.877737</td>\n",
              "      <td>1.548718</td>\n",
              "      <td>0.403034</td>\n",
              "      <td>-0.407193</td>\n",
              "      <td>0.095921</td>\n",
              "      <td>0.592941</td>\n",
              "      <td>-0.270533</td>\n",
              "      <td>0.817739</td>\n",
              "      <td>0.753074</td>\n",
              "      <td>-0.822843</td>\n",
              "      <td>0.538196</td>\n",
              "      <td>1.345852</td>\n",
              "      <td>-1.119670</td>\n",
              "      <td>0.175121</td>\n",
              "      <td>-0.451449</td>\n",
              "      <td>-0.237033</td>\n",
              "      <td>-0.038195</td>\n",
              "      <td>0.803487</td>\n",
              "      <td>0.408542</td>\n",
              "      <td>-0.009431</td>\n",
              "      <td>0.798278</td>\n",
              "      <td>-0.137458</td>\n",
              "      <td>0.141267</td>\n",
              "      <td>-0.206010</td>\n",
              "      <td>0.502292</td>\n",
              "      <td>0.219422</td>\n",
              "      <td>0.215153</td>\n",
              "      <td>0</td>\n",
              "      <td>-0.073403</td>\n",
              "      <td>-1.996541</td>\n",
              "    </tr>\n",
              "  </tbody>\n",
              "</table>\n",
              "</div>"
            ],
            "text/plain": [
              "         V1        V2        V3  ...  Class  std_amount  std_time\n",
              "0 -1.359807 -0.072781  2.536347  ...      0    0.244964 -1.996583\n",
              "1  1.191857  0.266151  0.166480  ...      0   -0.342475 -1.996583\n",
              "2 -1.358354 -1.340163  1.773209  ...      0    1.160686 -1.996562\n",
              "3 -0.966272 -0.185226  1.792993  ...      0    0.140534 -1.996562\n",
              "4 -1.158233  0.877737  1.548718  ...      0   -0.073403 -1.996541\n",
              "\n",
              "[5 rows x 31 columns]"
            ]
          },
          "metadata": {
            "tags": []
          },
          "execution_count": 75
        }
      ]
    },
    {
      "cell_type": "markdown",
      "metadata": {
        "id": "giz6-bzaHjjs",
        "colab_type": "text"
      },
      "source": [
        "Antes de realizar o balanceamento, iremos dividir nosso conjunto de dados nos grupos de Treino e Teste, para estratificar de forma proporcional usaremos o parametro `stratify`"
      ]
    },
    {
      "cell_type": "code",
      "metadata": {
        "id": "wRAUM5NMIUFz",
        "colab_type": "code",
        "colab": {}
      },
      "source": [
        "#Definindo as variáveis X e y\n",
        "X = df_std.drop('Class', axis=1)\n",
        "y = df_std['Class']\n",
        "\n",
        "#Dividindo o conjunto entre Treino e Test\n",
        "X_train, X_test, y_train, y_test = train_test_split(X,y, stratify=y, shuffle=True)"
      ],
      "execution_count": 77,
      "outputs": []
    },
    {
      "cell_type": "markdown",
      "metadata": {
        "id": "VsKpbjSpJFN7",
        "colab_type": "text"
      },
      "source": [
        "Para balancear os dados deveremos escolher entre utilizar *Under-sampling* ou *Over-sampling*, ou seja, \"descartar\" dados da classe majoritáia ou \"replicar\" dados da classe minoritária. Para esse exemplo, utilizaremos o *Under-sampling*, uma vez que a classe minoritária é muitas vezes menor que a majoritária, dessa forma, será melhor preservada. Utilizaremos o `RandomUnderSampler` da biblioteca `imblearn`"
      ]
    },
    {
      "cell_type": "code",
      "metadata": {
        "id": "XRgtTVCOKV-b",
        "colab_type": "code",
        "colab": {
          "base_uri": "https://localhost:8080/",
          "height": 395
        },
        "outputId": "d4304258-ae04-4376-c0f4-a6e45d499ddf"
      },
      "source": [
        "#Importando o RandomUnderSampler\n",
        "from imblearn.under_sampling import RandomUnderSampler\n",
        "\n",
        "#Balanceando os Dados\n",
        "rus = RandomUnderSampler()\n",
        "X_rus, y_rus = rus.fit_sample(X_train, y_train)\n",
        "\n",
        "#Conferir o balanceamento\n",
        "print('Quantidade de dados em cada classe:\\n',pd.Series(y_rus).value_counts())\n",
        "\n",
        "#plotar a nova distribuição \n",
        "sns.countplot(y_rus)\n",
        "plt.xticks([0,1],['Reais', 'Fraudulentas'])\n",
        "plt.xlabel('Tipos de Operações')\n",
        "plt.ylabel('Quantidade de entradas')\n",
        "plt.title('Nova Distribuição de Dados', size='15')\n",
        "plt.tight_layout();"
      ],
      "execution_count": 106,
      "outputs": [
        {
          "output_type": "stream",
          "text": [
            "/usr/local/lib/python3.6/dist-packages/sklearn/utils/deprecation.py:87: FutureWarning: Function safe_indexing is deprecated; safe_indexing is deprecated in version 0.22 and will be removed in version 0.24.\n",
            "  warnings.warn(msg, category=FutureWarning)\n"
          ],
          "name": "stderr"
        },
        {
          "output_type": "stream",
          "text": [
            "Quantidade de dados em cada classe:\n",
            " 1    369\n",
            "0    369\n",
            "dtype: int64\n"
          ],
          "name": "stdout"
        },
        {
          "output_type": "display_data",
          "data": {
            "image/png": "[encoded data removed]",
            "text/plain": [
              "<Figure size 432x288 with 1 Axes>"
            ]
          },
          "metadata": {
            "tags": []
          }
        }
      ]
    },
    {
      "cell_type": "markdown",
      "metadata": {
        "id": "INgn-PFJKvcb",
        "colab_type": "text"
      },
      "source": [
        "Uma vez balanceado os dados, podemos comparar a matriz de correlação antes e após o balanceamento. Dessa forma, encontrar quais variáveis possuem \"maior peso\" para o funcionamento do sistema preditivo"
      ]
    },
    {
      "cell_type": "code",
      "metadata": {
        "id": "FxI7PnjkNijM",
        "colab_type": "code",
        "colab": {
          "base_uri": "https://localhost:8080/",
          "height": 576
        },
        "outputId": "f286b9f1-a520-4dcd-9649-e9f50444aca2"
      },
      "source": [
        "# plotar a matriz de correlação\n",
        "corr_rus = pd.DataFrame(X_rus).corr()\n",
        "\n",
        "fig, ax = plt.subplots(nrows=1, ncols=2, figsize = (22,8))\n",
        "fig.suptitle('Matriz de Correlação')\n",
        "\n",
        "sns.heatmap(corr, xticklabels=corr.columns, yticklabels=corr.columns,\n",
        "            linewidths=.1, cmap=\"coolwarm\", ax=ax[0])\n",
        "ax[0].set_title('Desbalanceado')\n",
        "\n",
        "sns.heatmap(corr_rus, xticklabels=corr.columns, yticklabels=corr.columns,\n",
        "            linewidths=.1, cmap=\"coolwarm\", ax=ax[1])\n",
        "ax[1].set_title('Balanceado')\n",
        "\n",
        "plt.show()"
      ],
      "execution_count": 108,
      "outputs": [
        {
          "output_type": "display_data",
          "data": {
            "image/png": "[encoded data removed]",
            "text/plain": [
              "<Figure size 1584x576 with 4 Axes>"
            ]
          },
          "metadata": {
            "tags": []
          }
        }
      ]
    },
    {
      "cell_type": "markdown",
      "metadata": {
        "id": "hUTmqRIOODvP",
        "colab_type": "text"
      },
      "source": [
        "#Construindo o modelo de *Machine Learning*\n",
        "\n",
        "Agora, já com todos os dados devidamente preparados, poderemos construir nosso sistema que irá prever uma possível fraude. Para tal, utilizaremos o método da Regressão Logística.\n",
        "Lembrando que devemos utilizar os dados balanceados para o treinamento - `X_rus`e `y_rus`, respectivamente."
      ]
    },
    {
      "cell_type": "code",
      "metadata": {
        "id": "BUJjtd8yUui5",
        "colab_type": "code",
        "colab": {}
      },
      "source": [
        "#Contruindo e treinando nosso modelo, utilizando Regressão Logistica\n",
        "\n",
        "model = LogisticRegression()\n",
        "model.fit(X_rus,y_rus)\n",
        "\n",
        "#Realizar as previsões utilizando os dados de teste\n",
        "y_pred = model.predict(X_test)\n",
        "y_proba = model.predict_proba(X_test)"
      ],
      "execution_count": 130,
      "outputs": []
    },
    {
      "cell_type": "markdown",
      "metadata": {
        "id": "8mBrcM2YVQ_M",
        "colab_type": "text"
      },
      "source": [
        "Uma vez o modelo treinado e com as previsões realizadas, podemos passar à avaliação do desempenho do modelo.\n",
        "\n",
        "Lembrando que nosso interesse é na detecção de fraudes, uma vez que elas ocorrem em um número muito baixo, a acurácia não necessariamente será a melhor métrica de avaliação. Devemos, portanto, focar na taxa de acertos das fraudes reais - verdadeiros positivos - e não na taxa \"global\" de acertos - que inclui os verdadeiros negativos.\n",
        "\n",
        "Nossa avaliação iniciará utilizando o Relatório de Classificação e a Matriz de Confusão."
      ]
    },
    {
      "cell_type": "code",
      "metadata": {
        "id": "cm4LrL1WWYKm",
        "colab_type": "code",
        "colab": {}
      },
      "source": [
        "# Plotando a matriz de confusão\n",
        "# instalar a biblioteca scikit-plot\n",
        "!pip install -q scikit-plot"
      ],
      "execution_count": 127,
      "outputs": []
    },
    {
      "cell_type": "code",
      "metadata": {
        "id": "XEj_zG_IXV2_",
        "colab_type": "code",
        "colab": {
          "base_uri": "https://localhost:8080/",
          "height": 545
        },
        "outputId": "e7c937d7-9ddd-454f-b895-47d3797fa93f"
      },
      "source": [
        "import scikitplot as skplt\n",
        "\n",
        "skplt.metrics.plot_confusion_matrix(y_test, y_pred, normalize=True)\n",
        "plt.title('Matriz de Confusão Normalizada', size=15)\n",
        "plt.xlabel('Previsão', size=14)\n",
        "plt.xticks([0,1],['Real','Fraudulenta'])\n",
        "plt.yticks([0,1],['Real','Fraudulenta'], rotation=90)\n",
        "plt.ylabel('Dado Verdadeiro', size=14)\n",
        "# imprimir relatório de classificação\n",
        "print(\"Relatório de Classificação:\\n\", classification_report(y_test, y_pred, digits=4))\n",
        "\n",
        "# imprimir a acurácia do modelo\n",
        "print(\"Acurácia: {:.4f}\\n\".format(accuracy_score(y_test, y_pred)))\n",
        "\n",
        "# imprimir a área sob da curva\n",
        "print(\"AUC: {:.4f}\\n\".format(roc_auc_score(y_test, y_pred)))"
      ],
      "execution_count": 142,
      "outputs": [
        {
          "output_type": "stream",
          "text": [
            "Relatório de Classificação:\n",
            "               precision    recall  f1-score   support\n",
            "\n",
            "           0     0.9999    0.9710    0.9852     71079\n",
            "           1     0.0520    0.9187    0.0985       123\n",
            "\n",
            "    accuracy                         0.9710     71202\n",
            "   macro avg     0.5260    0.9449    0.5419     71202\n",
            "weighted avg     0.9982    0.9710    0.9837     71202\n",
            "\n",
            "Acurácia: 0.9710\n",
            "\n",
            "AUC: 0.9449\n",
            "\n"
          ],
          "name": "stdout"
        },
        {
          "output_type": "display_data",
          "data": {
            "image/png": "[encoded data removed]",
            "text/plain": [
              "<Figure size 432x288 with 2 Axes>"
            ]
          },
          "metadata": {
            "tags": []
          }
        }
      ]
    },
    {
      "cell_type": "markdown",
      "metadata": {
        "id": "83K3wO1DZQfN",
        "colab_type": "text"
      },
      "source": [
        "#Conclusões\n",
        "\n",
        "Nesse exemplo que acabamos de ilustrar, foi possível demonstrar o poder de \"criar\" inteligência quando temos uma base de dados bem estruturada e trabalhamos com suas entradas de forma a alimentar nosso modelo.\n",
        "\n",
        "Foi necessário um esforço adicional decorrente da normalização e balanceamento dos dados, porém, o resultado, já nessa primeira aplicação, se mostrou bastante promissor.\n",
        "\n",
        "Lembrando sempre que devemos considerar também outras abordagens e ajustes de parâmetros, podendo, dessa forma, levar a um refinamento ainda maior do projeto.\n"
      ]
    },
    {
      "cell_type": "code",
      "metadata": {
        "id": "uJT-shGCatzx",
        "colab_type": "code",
        "colab": {}
      },
      "source": [
        ""
      ],
      "execution_count": null,
      "outputs": []
    }
  ]
}